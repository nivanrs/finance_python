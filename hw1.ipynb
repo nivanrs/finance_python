{
 "cells": [
  {
   "cell_type": "code",
   "execution_count": 2,
   "metadata": {},
   "outputs": [
    {
     "name": "stdout",
     "output_type": "stream",
     "text": [
      "Requirement already satisfied: yfinance in /Users/moladin/anaconda3/lib/python3.11/site-packages (0.2.38)\n",
      "Requirement already satisfied: pandas>=1.3.0 in /Users/moladin/anaconda3/lib/python3.11/site-packages (from yfinance) (2.0.3)\n",
      "Requirement already satisfied: numpy>=1.16.5 in /Users/moladin/anaconda3/lib/python3.11/site-packages (from yfinance) (1.24.3)\n",
      "Requirement already satisfied: requests>=2.31 in /Users/moladin/anaconda3/lib/python3.11/site-packages (from yfinance) (2.31.0)\n",
      "Requirement already satisfied: multitasking>=0.0.7 in /Users/moladin/anaconda3/lib/python3.11/site-packages (from yfinance) (0.0.11)\n",
      "Requirement already satisfied: lxml>=4.9.1 in /Users/moladin/anaconda3/lib/python3.11/site-packages (from yfinance) (4.9.2)\n",
      "Requirement already satisfied: appdirs>=1.4.4 in /Users/moladin/anaconda3/lib/python3.11/site-packages (from yfinance) (1.4.4)\n",
      "Requirement already satisfied: pytz>=2022.5 in /Users/moladin/anaconda3/lib/python3.11/site-packages (from yfinance) (2023.3.post1)\n",
      "Requirement already satisfied: frozendict>=2.3.4 in /Users/moladin/anaconda3/lib/python3.11/site-packages (from yfinance) (2.4.2)\n",
      "Requirement already satisfied: peewee>=3.16.2 in /Users/moladin/anaconda3/lib/python3.11/site-packages (from yfinance) (3.17.3)\n",
      "Requirement already satisfied: beautifulsoup4>=4.11.1 in /Users/moladin/anaconda3/lib/python3.11/site-packages (from yfinance) (4.12.2)\n",
      "Requirement already satisfied: html5lib>=1.1 in /Users/moladin/anaconda3/lib/python3.11/site-packages (from yfinance) (1.1)\n",
      "Requirement already satisfied: soupsieve>1.2 in /Users/moladin/anaconda3/lib/python3.11/site-packages (from beautifulsoup4>=4.11.1->yfinance) (2.4)\n",
      "Requirement already satisfied: six>=1.9 in /Users/moladin/anaconda3/lib/python3.11/site-packages (from html5lib>=1.1->yfinance) (1.16.0)\n",
      "Requirement already satisfied: webencodings in /Users/moladin/anaconda3/lib/python3.11/site-packages (from html5lib>=1.1->yfinance) (0.5.1)\n",
      "Requirement already satisfied: python-dateutil>=2.8.2 in /Users/moladin/anaconda3/lib/python3.11/site-packages (from pandas>=1.3.0->yfinance) (2.8.2)\n",
      "Requirement already satisfied: tzdata>=2022.1 in /Users/moladin/anaconda3/lib/python3.11/site-packages (from pandas>=1.3.0->yfinance) (2023.3)\n",
      "Requirement already satisfied: charset-normalizer<4,>=2 in /Users/moladin/anaconda3/lib/python3.11/site-packages (from requests>=2.31->yfinance) (2.0.4)\n",
      "Requirement already satisfied: idna<4,>=2.5 in /Users/moladin/anaconda3/lib/python3.11/site-packages (from requests>=2.31->yfinance) (3.4)\n",
      "Requirement already satisfied: urllib3<3,>=1.21.1 in /Users/moladin/anaconda3/lib/python3.11/site-packages (from requests>=2.31->yfinance) (1.26.16)\n",
      "Requirement already satisfied: certifi>=2017.4.17 in /Users/moladin/anaconda3/lib/python3.11/site-packages (from requests>=2.31->yfinance) (2024.2.2)\n",
      "Requirement already satisfied: pandas-datareader in /Users/moladin/anaconda3/lib/python3.11/site-packages (0.10.0)\n",
      "Requirement already satisfied: lxml in /Users/moladin/anaconda3/lib/python3.11/site-packages (from pandas-datareader) (4.9.2)\n",
      "Requirement already satisfied: pandas>=0.23 in /Users/moladin/anaconda3/lib/python3.11/site-packages (from pandas-datareader) (2.0.3)\n",
      "Requirement already satisfied: requests>=2.19.0 in /Users/moladin/anaconda3/lib/python3.11/site-packages (from pandas-datareader) (2.31.0)\n",
      "Requirement already satisfied: python-dateutil>=2.8.2 in /Users/moladin/anaconda3/lib/python3.11/site-packages (from pandas>=0.23->pandas-datareader) (2.8.2)\n",
      "Requirement already satisfied: pytz>=2020.1 in /Users/moladin/anaconda3/lib/python3.11/site-packages (from pandas>=0.23->pandas-datareader) (2023.3.post1)\n",
      "Requirement already satisfied: tzdata>=2022.1 in /Users/moladin/anaconda3/lib/python3.11/site-packages (from pandas>=0.23->pandas-datareader) (2023.3)\n",
      "Requirement already satisfied: numpy>=1.21.0 in /Users/moladin/anaconda3/lib/python3.11/site-packages (from pandas>=0.23->pandas-datareader) (1.24.3)\n",
      "Requirement already satisfied: charset-normalizer<4,>=2 in /Users/moladin/anaconda3/lib/python3.11/site-packages (from requests>=2.19.0->pandas-datareader) (2.0.4)\n",
      "Requirement already satisfied: idna<4,>=2.5 in /Users/moladin/anaconda3/lib/python3.11/site-packages (from requests>=2.19.0->pandas-datareader) (3.4)\n",
      "Requirement already satisfied: urllib3<3,>=1.21.1 in /Users/moladin/anaconda3/lib/python3.11/site-packages (from requests>=2.19.0->pandas-datareader) (1.26.16)\n",
      "Requirement already satisfied: certifi>=2017.4.17 in /Users/moladin/anaconda3/lib/python3.11/site-packages (from requests>=2.19.0->pandas-datareader) (2024.2.2)\n",
      "Requirement already satisfied: six>=1.5 in /Users/moladin/anaconda3/lib/python3.11/site-packages (from python-dateutil>=2.8.2->pandas>=0.23->pandas-datareader) (1.16.0)\n"
     ]
    }
   ],
   "source": [
    "# install main library YFinance\n",
    "!pip install yfinance\n",
    "\n",
    "# Install Pandas Datareader\n",
    "!pip install pandas-datareader"
   ]
  },
  {
   "cell_type": "code",
   "execution_count": 3,
   "metadata": {},
   "outputs": [],
   "source": [
    "# IMPORTS\n",
    "import numpy as np\n",
    "import pandas as pd\n",
    "\n",
    "#Fin Data Sources\n",
    "import yfinance as yf\n",
    "import pandas_datareader as pdr\n",
    "\n",
    "#Data viz\n",
    "import plotly.graph_objs as go\n",
    "import plotly.express as px\n",
    "\n",
    "import time\n",
    "from datetime import date\n"
   ]
  },
  {
   "cell_type": "code",
   "execution_count": 5,
   "metadata": {},
   "outputs": [
    {
     "name": "stdout",
     "output_type": "stream",
     "text": [
      "Year = 2024; month= 4; day=23\n",
      "Period for indexes: 1954-04-23 to 2024-04-23 \n"
     ]
    }
   ],
   "source": [
    "end = date.today()\n",
    "print(f'Year = {end.year}; month= {end.month}; day={end.day}')\n",
    "\n",
    "start = date(year=end.year-70, month=end.month, day=end.day)\n",
    "print(f'Period for indexes: {start} to {end} ')"
   ]
  },
  {
   "cell_type": "code",
   "execution_count": 6,
   "metadata": {},
   "outputs": [],
   "source": [
    "# Real Potential Gross Domestic Product (GDPPOT), Billions of Chained 2012 Dollars, QUARTERLY\n",
    "# https://fred.stlouisfed.org/series/GDPPOT\n",
    "gdppot = pdr.DataReader(\"GDPC1\", \"fred\", start=start)"
   ]
  },
  {
   "cell_type": "code",
   "execution_count": 7,
   "metadata": {},
   "outputs": [
    {
     "name": "stdout",
     "output_type": "stream",
     "text": [
      "DATE\n",
      "1954-07-01          NaN\n",
      "1954-10-01          NaN\n",
      "1955-01-01          NaN\n",
      "1955-04-01          NaN\n",
      "1955-07-01     2880.482\n",
      "                ...    \n",
      "2022-10-01    21847.602\n",
      "2023-01-01    21738.871\n",
      "2023-04-01    21708.160\n",
      "2023-07-01    21851.134\n",
      "2023-10-01    21989.981\n",
      "Name: GDPC1, Length: 278, dtype: float64\n"
     ]
    }
   ],
   "source": [
    "print(gdppot.GDPC1.shift(4))"
   ]
  },
  {
   "cell_type": "code",
   "execution_count": 8,
   "metadata": {},
   "outputs": [
    {
     "data": {
      "text/html": [
       "<div>\n",
       "<style scoped>\n",
       "    .dataframe tbody tr th:only-of-type {\n",
       "        vertical-align: middle;\n",
       "    }\n",
       "\n",
       "    .dataframe tbody tr th {\n",
       "        vertical-align: top;\n",
       "    }\n",
       "\n",
       "    .dataframe thead th {\n",
       "        text-align: right;\n",
       "    }\n",
       "</style>\n",
       "<table border=\"1\" class=\"dataframe\">\n",
       "  <thead>\n",
       "    <tr style=\"text-align: right;\">\n",
       "      <th></th>\n",
       "      <th>GDPC1</th>\n",
       "      <th>gdppot_us_yoy</th>\n",
       "      <th>gdppot_us_qoq</th>\n",
       "    </tr>\n",
       "    <tr>\n",
       "      <th>DATE</th>\n",
       "      <th></th>\n",
       "      <th></th>\n",
       "      <th></th>\n",
       "    </tr>\n",
       "  </thead>\n",
       "  <tbody>\n",
       "    <tr>\n",
       "      <th>2022-10-01</th>\n",
       "      <td>21989.981</td>\n",
       "      <td>0.7</td>\n",
       "      <td>0.6</td>\n",
       "    </tr>\n",
       "    <tr>\n",
       "      <th>2023-01-01</th>\n",
       "      <td>22112.329</td>\n",
       "      <td>1.7</td>\n",
       "      <td>0.6</td>\n",
       "    </tr>\n",
       "    <tr>\n",
       "      <th>2023-04-01</th>\n",
       "      <td>22225.350</td>\n",
       "      <td>2.4</td>\n",
       "      <td>0.5</td>\n",
       "    </tr>\n",
       "    <tr>\n",
       "      <th>2023-07-01</th>\n",
       "      <td>22490.692</td>\n",
       "      <td>2.9</td>\n",
       "      <td>1.2</td>\n",
       "    </tr>\n",
       "    <tr>\n",
       "      <th>2023-10-01</th>\n",
       "      <td>22679.255</td>\n",
       "      <td>3.1</td>\n",
       "      <td>0.8</td>\n",
       "    </tr>\n",
       "  </tbody>\n",
       "</table>\n",
       "</div>"
      ],
      "text/plain": [
       "                GDPC1  gdppot_us_yoy  gdppot_us_qoq\n",
       "DATE                                               \n",
       "2022-10-01  21989.981            0.7            0.6\n",
       "2023-01-01  22112.329            1.7            0.6\n",
       "2023-04-01  22225.350            2.4            0.5\n",
       "2023-07-01  22490.692            2.9            1.2\n",
       "2023-10-01  22679.255            3.1            0.8"
      ]
     },
     "execution_count": 8,
     "metadata": {},
     "output_type": "execute_result"
    }
   ],
   "source": [
    "# Homework no 1\n",
    "gdppot['gdppot_us_yoy'] = round(gdppot.GDPC1/gdppot.GDPC1.shift(4)-1,3)*100\n",
    "gdppot['gdppot_us_qoq'] = round(gdppot.GDPC1/gdppot.GDPC1.shift(1)-1,3)*100\n",
    "gdppot.tail()\n",
    "\n",
    "# answer: 2.2%"
   ]
  },
  {
   "cell_type": "code",
   "execution_count": 9,
   "metadata": {},
   "outputs": [
    {
     "name": "stdout",
     "output_type": "stream",
     "text": [
      "2.525\n"
     ]
    }
   ],
   "source": [
    "result = np.average(gdppot.tail(4).gdppot_us_yoy)\n",
    "print(result)"
   ]
  },
  {
   "cell_type": "code",
   "execution_count": null,
   "metadata": {},
   "outputs": [],
   "source": []
  },
  {
   "cell_type": "markdown",
   "metadata": {},
   "source": [
    "#2\n"
   ]
  },
  {
   "cell_type": "code",
   "execution_count": 95,
   "metadata": {},
   "outputs": [
    {
     "name": "stderr",
     "output_type": "stream",
     "text": [
      "[*********************100%%**********************]  1 of 1 completed\n"
     ]
    },
    {
     "data": {
      "text/html": [
       "<div>\n",
       "<style scoped>\n",
       "    .dataframe tbody tr th:only-of-type {\n",
       "        vertical-align: middle;\n",
       "    }\n",
       "\n",
       "    .dataframe tbody tr th {\n",
       "        vertical-align: top;\n",
       "    }\n",
       "\n",
       "    .dataframe thead th {\n",
       "        text-align: right;\n",
       "    }\n",
       "</style>\n",
       "<table border=\"1\" class=\"dataframe\">\n",
       "  <thead>\n",
       "    <tr style=\"text-align: right;\">\n",
       "      <th></th>\n",
       "      <th>Open</th>\n",
       "      <th>High</th>\n",
       "      <th>Low</th>\n",
       "      <th>Close</th>\n",
       "      <th>Adj Close</th>\n",
       "      <th>Volume</th>\n",
       "    </tr>\n",
       "    <tr>\n",
       "      <th>Date</th>\n",
       "      <th></th>\n",
       "      <th></th>\n",
       "      <th></th>\n",
       "      <th></th>\n",
       "      <th></th>\n",
       "      <th></th>\n",
       "    </tr>\n",
       "  </thead>\n",
       "  <tbody>\n",
       "    <tr>\n",
       "      <th>2024-04-02</th>\n",
       "      <td>5204.290039</td>\n",
       "      <td>5208.339844</td>\n",
       "      <td>5184.049805</td>\n",
       "      <td>5205.810059</td>\n",
       "      <td>5205.810059</td>\n",
       "      <td>3886590000</td>\n",
       "    </tr>\n",
       "    <tr>\n",
       "      <th>2024-04-03</th>\n",
       "      <td>5194.370117</td>\n",
       "      <td>5228.750000</td>\n",
       "      <td>5194.370117</td>\n",
       "      <td>5211.490234</td>\n",
       "      <td>5211.490234</td>\n",
       "      <td>3703250000</td>\n",
       "    </tr>\n",
       "    <tr>\n",
       "      <th>2024-04-04</th>\n",
       "      <td>5244.049805</td>\n",
       "      <td>5256.589844</td>\n",
       "      <td>5146.060059</td>\n",
       "      <td>5147.209961</td>\n",
       "      <td>5147.209961</td>\n",
       "      <td>4075680000</td>\n",
       "    </tr>\n",
       "    <tr>\n",
       "      <th>2024-04-05</th>\n",
       "      <td>5158.950195</td>\n",
       "      <td>5222.180176</td>\n",
       "      <td>5157.209961</td>\n",
       "      <td>5204.339844</td>\n",
       "      <td>5204.339844</td>\n",
       "      <td>3386780000</td>\n",
       "    </tr>\n",
       "    <tr>\n",
       "      <th>2024-04-08</th>\n",
       "      <td>5211.370117</td>\n",
       "      <td>5219.569824</td>\n",
       "      <td>5197.350098</td>\n",
       "      <td>5202.390137</td>\n",
       "      <td>5202.390137</td>\n",
       "      <td>3278180000</td>\n",
       "    </tr>\n",
       "  </tbody>\n",
       "</table>\n",
       "</div>"
      ],
      "text/plain": [
       "                   Open         High          Low        Close    Adj Close  \\\n",
       "Date                                                                          \n",
       "2024-04-02  5204.290039  5208.339844  5184.049805  5205.810059  5205.810059   \n",
       "2024-04-03  5194.370117  5228.750000  5194.370117  5211.490234  5211.490234   \n",
       "2024-04-04  5244.049805  5256.589844  5146.060059  5147.209961  5147.209961   \n",
       "2024-04-05  5158.950195  5222.180176  5157.209961  5204.339844  5204.339844   \n",
       "2024-04-08  5211.370117  5219.569824  5197.350098  5202.390137  5202.390137   \n",
       "\n",
       "                Volume  \n",
       "Date                    \n",
       "2024-04-02  3886590000  \n",
       "2024-04-03  3703250000  \n",
       "2024-04-04  4075680000  \n",
       "2024-04-05  3386780000  \n",
       "2024-04-08  3278180000  "
      ]
     },
     "execution_count": 95,
     "metadata": {},
     "output_type": "execute_result"
    }
   ],
   "source": [
    "# delayed 15 min : https://finance.yahoo.com/quote/%5ESPX/\n",
    "# S&P 500 INDEX : Chicago Options - Chicago Options Delayed Price. Currency in USD\n",
    "snp500_daily = yf.download(tickers = \"^GSPC\",\n",
    "                     period = \"5y\",\n",
    "                     interval = \"1d\",\n",
    "                     start=\"2019-04-09\",\n",
    "                     end=\"2024-04-09\")\n",
    "snp500_daily.tail()"
   ]
  },
  {
   "cell_type": "code",
   "execution_count": 19,
   "metadata": {},
   "outputs": [
    {
     "data": {
      "text/html": [
       "<div>\n",
       "<style scoped>\n",
       "    .dataframe tbody tr th:only-of-type {\n",
       "        vertical-align: middle;\n",
       "    }\n",
       "\n",
       "    .dataframe tbody tr th {\n",
       "        vertical-align: top;\n",
       "    }\n",
       "\n",
       "    .dataframe thead th {\n",
       "        text-align: right;\n",
       "    }\n",
       "</style>\n",
       "<table border=\"1\" class=\"dataframe\">\n",
       "  <thead>\n",
       "    <tr style=\"text-align: right;\">\n",
       "      <th></th>\n",
       "      <th>Open</th>\n",
       "      <th>High</th>\n",
       "      <th>Low</th>\n",
       "      <th>Close</th>\n",
       "      <th>Adj Close</th>\n",
       "      <th>Volume</th>\n",
       "    </tr>\n",
       "    <tr>\n",
       "      <th>Date</th>\n",
       "      <th></th>\n",
       "      <th></th>\n",
       "      <th></th>\n",
       "      <th></th>\n",
       "      <th></th>\n",
       "      <th></th>\n",
       "    </tr>\n",
       "  </thead>\n",
       "  <tbody>\n",
       "    <tr>\n",
       "      <th>2019-04-22</th>\n",
       "      <td>2898.780029</td>\n",
       "      <td>2909.510010</td>\n",
       "      <td>2896.350098</td>\n",
       "      <td>2907.969971</td>\n",
       "      <td>2907.969971</td>\n",
       "      <td>3010130000</td>\n",
       "    </tr>\n",
       "    <tr>\n",
       "      <th>2019-04-23</th>\n",
       "      <td>2909.989990</td>\n",
       "      <td>2936.310059</td>\n",
       "      <td>2908.530029</td>\n",
       "      <td>2933.679932</td>\n",
       "      <td>2933.679932</td>\n",
       "      <td>3674480000</td>\n",
       "    </tr>\n",
       "    <tr>\n",
       "      <th>2019-04-24</th>\n",
       "      <td>2934.000000</td>\n",
       "      <td>2936.830078</td>\n",
       "      <td>2926.050049</td>\n",
       "      <td>2927.250000</td>\n",
       "      <td>2927.250000</td>\n",
       "      <td>3468480000</td>\n",
       "    </tr>\n",
       "    <tr>\n",
       "      <th>2019-04-25</th>\n",
       "      <td>2928.989990</td>\n",
       "      <td>2933.100098</td>\n",
       "      <td>2912.840088</td>\n",
       "      <td>2926.169922</td>\n",
       "      <td>2926.169922</td>\n",
       "      <td>3440010000</td>\n",
       "    </tr>\n",
       "    <tr>\n",
       "      <th>2019-04-26</th>\n",
       "      <td>2925.810059</td>\n",
       "      <td>2939.879883</td>\n",
       "      <td>2917.560059</td>\n",
       "      <td>2939.879883</td>\n",
       "      <td>2939.879883</td>\n",
       "      <td>3264390000</td>\n",
       "    </tr>\n",
       "  </tbody>\n",
       "</table>\n",
       "</div>"
      ],
      "text/plain": [
       "                   Open         High          Low        Close    Adj Close  \\\n",
       "Date                                                                          \n",
       "2019-04-22  2898.780029  2909.510010  2896.350098  2907.969971  2907.969971   \n",
       "2019-04-23  2909.989990  2936.310059  2908.530029  2933.679932  2933.679932   \n",
       "2019-04-24  2934.000000  2936.830078  2926.050049  2927.250000  2927.250000   \n",
       "2019-04-25  2928.989990  2933.100098  2912.840088  2926.169922  2926.169922   \n",
       "2019-04-26  2925.810059  2939.879883  2917.560059  2939.879883  2939.879883   \n",
       "\n",
       "                Volume  \n",
       "Date                    \n",
       "2019-04-22  3010130000  \n",
       "2019-04-23  3674480000  \n",
       "2019-04-24  3468480000  \n",
       "2019-04-25  3440010000  \n",
       "2019-04-26  3264390000  "
      ]
     },
     "execution_count": 19,
     "metadata": {},
     "output_type": "execute_result"
    }
   ],
   "source": [
    "snp500_daily.head()"
   ]
  },
  {
   "cell_type": "code",
   "execution_count": 93,
   "metadata": {},
   "outputs": [
    {
     "name": "stderr",
     "output_type": "stream",
     "text": [
      "[*********************100%%**********************]  1 of 1 completed\n"
     ]
    },
    {
     "data": {
      "text/html": [
       "<div>\n",
       "<style scoped>\n",
       "    .dataframe tbody tr th:only-of-type {\n",
       "        vertical-align: middle;\n",
       "    }\n",
       "\n",
       "    .dataframe tbody tr th {\n",
       "        vertical-align: top;\n",
       "    }\n",
       "\n",
       "    .dataframe thead th {\n",
       "        text-align: right;\n",
       "    }\n",
       "</style>\n",
       "<table border=\"1\" class=\"dataframe\">\n",
       "  <thead>\n",
       "    <tr style=\"text-align: right;\">\n",
       "      <th></th>\n",
       "      <th>Open</th>\n",
       "      <th>High</th>\n",
       "      <th>Low</th>\n",
       "      <th>Close</th>\n",
       "      <th>Adj Close</th>\n",
       "      <th>Volume</th>\n",
       "    </tr>\n",
       "    <tr>\n",
       "      <th>Date</th>\n",
       "      <th></th>\n",
       "      <th></th>\n",
       "      <th></th>\n",
       "      <th></th>\n",
       "      <th></th>\n",
       "      <th></th>\n",
       "    </tr>\n",
       "  </thead>\n",
       "  <tbody>\n",
       "    <tr>\n",
       "      <th>2024-04-02</th>\n",
       "      <td>57593.621094</td>\n",
       "      <td>57830.878906</td>\n",
       "      <td>57235.589844</td>\n",
       "      <td>57581.808594</td>\n",
       "      <td>57581.808594</td>\n",
       "      <td>180753600</td>\n",
       "    </tr>\n",
       "    <tr>\n",
       "      <th>2024-04-03</th>\n",
       "      <td>57547.191406</td>\n",
       "      <td>58086.421875</td>\n",
       "      <td>57300.109375</td>\n",
       "      <td>57503.390625</td>\n",
       "      <td>57503.390625</td>\n",
       "      <td>189285300</td>\n",
       "    </tr>\n",
       "    <tr>\n",
       "      <th>2024-04-04</th>\n",
       "      <td>57539.468750</td>\n",
       "      <td>58219.500000</td>\n",
       "      <td>57514.179688</td>\n",
       "      <td>57882.761719</td>\n",
       "      <td>57882.761719</td>\n",
       "      <td>184739700</td>\n",
       "    </tr>\n",
       "    <tr>\n",
       "      <th>2024-04-05</th>\n",
       "      <td>57805.191406</td>\n",
       "      <td>58227.839844</td>\n",
       "      <td>57678.609375</td>\n",
       "      <td>58092.441406</td>\n",
       "      <td>58092.441406</td>\n",
       "      <td>212252300</td>\n",
       "    </tr>\n",
       "    <tr>\n",
       "      <th>2024-04-08</th>\n",
       "      <td>58021.660156</td>\n",
       "      <td>58192.320312</td>\n",
       "      <td>57749.441406</td>\n",
       "      <td>57989.941406</td>\n",
       "      <td>57989.941406</td>\n",
       "      <td>154641800</td>\n",
       "    </tr>\n",
       "  </tbody>\n",
       "</table>\n",
       "</div>"
      ],
      "text/plain": [
       "                    Open          High           Low         Close  \\\n",
       "Date                                                                 \n",
       "2024-04-02  57593.621094  57830.878906  57235.589844  57581.808594   \n",
       "2024-04-03  57547.191406  58086.421875  57300.109375  57503.390625   \n",
       "2024-04-04  57539.468750  58219.500000  57514.179688  57882.761719   \n",
       "2024-04-05  57805.191406  58227.839844  57678.609375  58092.441406   \n",
       "2024-04-08  58021.660156  58192.320312  57749.441406  57989.941406   \n",
       "\n",
       "               Adj Close     Volume  \n",
       "Date                                 \n",
       "2024-04-02  57581.808594  180753600  \n",
       "2024-04-03  57503.390625  189285300  \n",
       "2024-04-04  57882.761719  184739700  \n",
       "2024-04-05  58092.441406  212252300  \n",
       "2024-04-08  57989.941406  154641800  "
      ]
     },
     "execution_count": 93,
     "metadata": {},
     "output_type": "execute_result"
    }
   ],
   "source": [
    "ipc_mexico_daily = yf.download(tickers = \"^MXX\",\n",
    "                     period = \"5y\",\n",
    "                     interval = \"1d\",\n",
    "                     start=\"2019-04-09\",\n",
    "                     end=\"2024-04-09\")\n",
    "ipc_mexico_daily.tail()"
   ]
  },
  {
   "cell_type": "code",
   "execution_count": 18,
   "metadata": {},
   "outputs": [
    {
     "data": {
      "text/html": [
       "<div>\n",
       "<style scoped>\n",
       "    .dataframe tbody tr th:only-of-type {\n",
       "        vertical-align: middle;\n",
       "    }\n",
       "\n",
       "    .dataframe tbody tr th {\n",
       "        vertical-align: top;\n",
       "    }\n",
       "\n",
       "    .dataframe thead th {\n",
       "        text-align: right;\n",
       "    }\n",
       "</style>\n",
       "<table border=\"1\" class=\"dataframe\">\n",
       "  <thead>\n",
       "    <tr style=\"text-align: right;\">\n",
       "      <th></th>\n",
       "      <th>Open</th>\n",
       "      <th>High</th>\n",
       "      <th>Low</th>\n",
       "      <th>Close</th>\n",
       "      <th>Adj Close</th>\n",
       "      <th>Volume</th>\n",
       "    </tr>\n",
       "    <tr>\n",
       "      <th>Date</th>\n",
       "      <th></th>\n",
       "      <th></th>\n",
       "      <th></th>\n",
       "      <th></th>\n",
       "      <th></th>\n",
       "      <th></th>\n",
       "    </tr>\n",
       "  </thead>\n",
       "  <tbody>\n",
       "    <tr>\n",
       "      <th>2019-04-22</th>\n",
       "      <td>45507.781250</td>\n",
       "      <td>45590.441406</td>\n",
       "      <td>45321.218750</td>\n",
       "      <td>45381.218750</td>\n",
       "      <td>45381.218750</td>\n",
       "      <td>86717900</td>\n",
       "    </tr>\n",
       "    <tr>\n",
       "      <th>2019-04-23</th>\n",
       "      <td>45355.929688</td>\n",
       "      <td>45424.421875</td>\n",
       "      <td>44948.691406</td>\n",
       "      <td>45148.320312</td>\n",
       "      <td>45148.320312</td>\n",
       "      <td>132582400</td>\n",
       "    </tr>\n",
       "    <tr>\n",
       "      <th>2019-04-24</th>\n",
       "      <td>45112.128906</td>\n",
       "      <td>45186.269531</td>\n",
       "      <td>44666.250000</td>\n",
       "      <td>45045.328125</td>\n",
       "      <td>45045.328125</td>\n",
       "      <td>131485100</td>\n",
       "    </tr>\n",
       "    <tr>\n",
       "      <th>2019-04-25</th>\n",
       "      <td>45005.039062</td>\n",
       "      <td>45064.929688</td>\n",
       "      <td>44712.300781</td>\n",
       "      <td>45026.679688</td>\n",
       "      <td>45026.679688</td>\n",
       "      <td>125639200</td>\n",
       "    </tr>\n",
       "    <tr>\n",
       "      <th>2019-04-26</th>\n",
       "      <td>45074.699219</td>\n",
       "      <td>45208.371094</td>\n",
       "      <td>44769.351562</td>\n",
       "      <td>44974.968750</td>\n",
       "      <td>44974.968750</td>\n",
       "      <td>109775400</td>\n",
       "    </tr>\n",
       "  </tbody>\n",
       "</table>\n",
       "</div>"
      ],
      "text/plain": [
       "                    Open          High           Low         Close  \\\n",
       "Date                                                                 \n",
       "2019-04-22  45507.781250  45590.441406  45321.218750  45381.218750   \n",
       "2019-04-23  45355.929688  45424.421875  44948.691406  45148.320312   \n",
       "2019-04-24  45112.128906  45186.269531  44666.250000  45045.328125   \n",
       "2019-04-25  45005.039062  45064.929688  44712.300781  45026.679688   \n",
       "2019-04-26  45074.699219  45208.371094  44769.351562  44974.968750   \n",
       "\n",
       "               Adj Close     Volume  \n",
       "Date                                 \n",
       "2019-04-22  45381.218750   86717900  \n",
       "2019-04-23  45148.320312  132582400  \n",
       "2019-04-24  45045.328125  131485100  \n",
       "2019-04-25  45026.679688  125639200  \n",
       "2019-04-26  44974.968750  109775400  "
      ]
     },
     "execution_count": 18,
     "metadata": {},
     "output_type": "execute_result"
    }
   ],
   "source": [
    "ipc_mexico_daily.head()"
   ]
  },
  {
   "cell_type": "code",
   "execution_count": null,
   "metadata": {},
   "outputs": [],
   "source": []
  },
  {
   "cell_type": "code",
   "execution_count": null,
   "metadata": {},
   "outputs": [],
   "source": [
    "z"
   ]
  },
  {
   "cell_type": "code",
   "execution_count": 102,
   "metadata": {},
   "outputs": [
    {
     "data": {
      "text/plain": [
       "Date\n",
       "2019-04-09    0.810635\n",
       "2019-04-10    0.810635\n",
       "2019-04-11    0.810635\n",
       "2019-04-12    0.810635\n",
       "2019-04-15    0.810635\n",
       "                ...   \n",
       "2024-04-02    0.810635\n",
       "2024-04-03    0.810635\n",
       "2024-04-04    0.810635\n",
       "2024-04-05    0.810635\n",
       "2024-04-08    0.810635\n",
       "Name: yoy_growth, Length: 1258, dtype: float64"
      ]
     },
     "execution_count": 102,
     "metadata": {},
     "output_type": "execute_result"
    }
   ],
   "source": [
    "snp500_daily['adj_close_last_year'] = snp500_daily['Adj Close'][0]\n",
    "snp500_daily['yoy_growth'] = snp500_daily['Open'][-1] / snp500_daily['adj_close_last_year'] -1\n",
    "snp500_daily['yoy_growth']"
   ]
  },
  {
   "cell_type": "markdown",
   "metadata": {},
   "source": [
    "#4"
   ]
  },
  {
   "cell_type": "code",
   "execution_count": null,
   "metadata": {},
   "outputs": [],
   "source": []
  },
  {
   "cell_type": "code",
   "execution_count": 62,
   "metadata": {},
   "outputs": [
    {
     "name": "stderr",
     "output_type": "stream",
     "text": [
      "[*********************100%%**********************]  1 of 1 completed"
     ]
    },
    {
     "name": "stdout",
     "output_type": "stream",
     "text": [
      "0.21\n"
     ]
    },
    {
     "name": "stderr",
     "output_type": "stream",
     "text": [
      "\n"
     ]
    }
   ],
   "source": [
    "sr_weekly = yf.download(tickers = \"2222.SR\",\n",
    "                     period = \"1y\",\n",
    "                     interval = \"1d\",\n",
    "                     auto_adjust=True,\n",
    "                     start=\"2023-01-01\",\n",
    "                     end=\"2023-12-31\")\n",
    "print(round((sr_weekly.Close.max()-sr_weekly.Close.min())/sr_weekly.Close.max(),2))"
   ]
  },
  {
   "cell_type": "code",
   "execution_count": 63,
   "metadata": {},
   "outputs": [
    {
     "name": "stderr",
     "output_type": "stream",
     "text": [
      "[*********************100%%**********************]  1 of 1 completed"
     ]
    },
    {
     "name": "stdout",
     "output_type": "stream",
     "text": [
      "0.21\n"
     ]
    },
    {
     "name": "stderr",
     "output_type": "stream",
     "text": [
      "\n"
     ]
    }
   ],
   "source": [
    "BRK_weekly = yf.download(tickers = \"BRK-B\",\n",
    "                     period = \"1y\",\n",
    "                     interval = \"1d\",\n",
    "                     auto_adjust=True,\n",
    "                     start=\"2023-01-01\",\n",
    "                     end=\"2023-12-31\")\n",
    "print(round((BRK_weekly.Close.max()-BRK_weekly.Close.min())/BRK_weekly.Close.max(),2))"
   ]
  },
  {
   "cell_type": "code",
   "execution_count": 128,
   "metadata": {},
   "outputs": [
    {
     "data": {
      "text/plain": [
       "Series([], Name: Dividends, dtype: float64)"
      ]
     },
     "execution_count": 128,
     "metadata": {},
     "output_type": "execute_result"
    }
   ],
   "source": [
    "round(tickers.tickers['BRK-B'].dividends/BRK_weekly.Close[-1]*100,2)"
   ]
  },
  {
   "cell_type": "code",
   "execution_count": 65,
   "metadata": {},
   "outputs": [
    {
     "name": "stderr",
     "output_type": "stream",
     "text": [
      "[*********************100%%**********************]  1 of 1 completed"
     ]
    },
    {
     "name": "stdout",
     "output_type": "stream",
     "text": [
      "0.37\n"
     ]
    },
    {
     "name": "stderr",
     "output_type": "stream",
     "text": [
      "\n"
     ]
    }
   ],
   "source": [
    "AAPL_weekly = yf.download(tickers = \"AAPL\",\n",
    "                     period = \"1y\",\n",
    "                     interval = \"1d\",\n",
    "                     auto_adjust=True,\n",
    "                     start=\"2023-01-01\",\n",
    "                     end=\"2023-12-31\")\n",
    "print(round((AAPL_weekly.Close.max()-AAPL_weekly.Close.min())/AAPL_weekly.Close.max(),2))\n"
   ]
  },
  {
   "cell_type": "code",
   "execution_count": 127,
   "metadata": {},
   "outputs": [
    {
     "data": {
      "text/plain": [
       "Date\n",
       "1987-05-11 00:00:00-04:00    0.00\n",
       "1987-08-10 00:00:00-04:00    0.00\n",
       "1987-11-17 00:00:00-05:00    0.00\n",
       "1988-02-12 00:00:00-05:00    0.00\n",
       "1988-05-16 00:00:00-04:00    0.00\n",
       "                             ... \n",
       "2023-02-10 00:00:00-05:00    0.12\n",
       "2023-05-12 00:00:00-04:00    0.12\n",
       "2023-08-11 00:00:00-04:00    0.12\n",
       "2023-11-10 00:00:00-05:00    0.12\n",
       "2024-02-09 00:00:00-05:00    0.12\n",
       "Name: Dividends, Length: 82, dtype: float64"
      ]
     },
     "execution_count": 127,
     "metadata": {},
     "output_type": "execute_result"
    }
   ],
   "source": [
    "round(tickers.tickers['AAPL'].dividends/AAPL_weekly.Close[-1]*100,2)"
   ]
  },
  {
   "cell_type": "code",
   "execution_count": 66,
   "metadata": {},
   "outputs": [
    {
     "name": "stderr",
     "output_type": "stream",
     "text": [
      "[*********************100%%**********************]  1 of 1 completed"
     ]
    },
    {
     "name": "stdout",
     "output_type": "stream",
     "text": [
      "0.42\n"
     ]
    },
    {
     "name": "stderr",
     "output_type": "stream",
     "text": [
      "\n"
     ]
    }
   ],
   "source": [
    "MSFT_weekly = yf.download(tickers = \"MSFT\",\n",
    "                     period = \"1y\",\n",
    "                     interval = \"1d\",\n",
    "                     auto_adjust=True,\n",
    "                     start=\"2023-01-01\",\n",
    "                     end=\"2023-12-31\")\n",
    "print(round((MSFT_weekly.Close.max()-MSFT_weekly.Close.min())/MSFT_weekly.Close.max(),2))"
   ]
  },
  {
   "cell_type": "code",
   "execution_count": 126,
   "metadata": {},
   "outputs": [
    {
     "data": {
      "text/plain": [
       "Date\n",
       "2003-02-19 00:00:00-05:00    0.02\n",
       "2003-10-15 00:00:00-04:00    0.04\n",
       "2004-08-23 00:00:00-04:00    0.02\n",
       "2004-11-15 00:00:00-05:00    0.82\n",
       "2005-02-15 00:00:00-05:00    0.02\n",
       "                             ... \n",
       "2023-02-15 00:00:00-05:00    0.18\n",
       "2023-05-17 00:00:00-04:00    0.18\n",
       "2023-08-16 00:00:00-04:00    0.18\n",
       "2023-11-15 00:00:00-05:00    0.20\n",
       "2024-02-14 00:00:00-05:00    0.20\n",
       "Name: Dividends, Length: 81, dtype: float64"
      ]
     },
     "execution_count": 126,
     "metadata": {},
     "output_type": "execute_result"
    }
   ],
   "source": [
    "round(tickers.tickers['MSFT'].dividends/MSFT_weekly.Close[-1]*100,2)"
   ]
  },
  {
   "cell_type": "code",
   "execution_count": 67,
   "metadata": {},
   "outputs": [
    {
     "name": "stderr",
     "output_type": "stream",
     "text": [
      "[*********************100%%**********************]  1 of 1 completed"
     ]
    },
    {
     "name": "stdout",
     "output_type": "stream",
     "text": [
      "0.39\n"
     ]
    },
    {
     "name": "stderr",
     "output_type": "stream",
     "text": [
      "\n"
     ]
    }
   ],
   "source": [
    "GOOG_weekly = yf.download(tickers = \"GOOG\",\n",
    "                     period = \"1y\",\n",
    "                     interval = \"1d\",\n",
    "                     auto_adjust=True,\n",
    "                     start=\"2023-01-01\",\n",
    "                     end=\"2023-12-31\")\n",
    "print(round((GOOG_weekly.Close.max()-GOOG_weekly.Close.min())/GOOG_weekly.Close.max(),2))"
   ]
  },
  {
   "cell_type": "code",
   "execution_count": 125,
   "metadata": {},
   "outputs": [
    {
     "data": {
      "text/plain": [
       "Series([], Name: Dividends, dtype: float64)"
      ]
     },
     "execution_count": 125,
     "metadata": {},
     "output_type": "execute_result"
    }
   ],
   "source": [
    "round(tickers.tickers['GOOG'].dividends/GOOG_weekly.Close[-1]*100,2)"
   ]
  },
  {
   "cell_type": "code",
   "execution_count": 59,
   "metadata": {},
   "outputs": [
    {
     "name": "stderr",
     "output_type": "stream",
     "text": [
      "[*********************100%%**********************]  1 of 1 completed"
     ]
    },
    {
     "name": "stdout",
     "output_type": "stream",
     "text": [
      "0.34\n"
     ]
    },
    {
     "name": "stderr",
     "output_type": "stream",
     "text": [
      "\n"
     ]
    }
   ],
   "source": [
    "JPM_weekly = yf.download(tickers = \"JPM\",\n",
    "                     period = \"1y\",\n",
    "                     interval = \"1d\",\n",
    "                     auto_adjust=True)\n",
    "print(round((JPM_weekly.Close.max()-JPM_weekly.Close.min())/JPM_weekly.Close.max(),2))"
   ]
  },
  {
   "cell_type": "code",
   "execution_count": 123,
   "metadata": {},
   "outputs": [
    {
     "data": {
      "text/plain": [
       "Date\n",
       "1984-03-09 00:00:00-05:00    0.10\n",
       "1984-06-11 00:00:00-04:00    0.10\n",
       "1984-09-10 00:00:00-04:00    0.10\n",
       "1984-12-10 00:00:00-05:00    0.10\n",
       "1985-03-11 00:00:00-05:00    0.11\n",
       "                             ... \n",
       "2023-04-05 00:00:00-04:00    0.53\n",
       "2023-07-05 00:00:00-04:00    0.53\n",
       "2023-10-05 00:00:00-04:00    0.55\n",
       "2024-01-04 00:00:00-05:00    0.55\n",
       "2024-04-04 00:00:00-04:00    0.61\n",
       "Name: Dividends, Length: 162, dtype: float64"
      ]
     },
     "execution_count": 123,
     "metadata": {},
     "output_type": "execute_result"
    }
   ],
   "source": [
    "round(tickers.tickers['JPM'].dividends/JPM_weekly.Close[-1]*100,2)"
   ]
  },
  {
   "cell_type": "code",
   "execution_count": 130,
   "metadata": {},
   "outputs": [
    {
     "data": {
      "text/plain": [
       "12.31"
      ]
     },
     "execution_count": 130,
     "metadata": {},
     "output_type": "execute_result"
    }
   ],
   "source": [
    "import yfinance as yf\n",
    "\n",
    "tickers = yf.Tickers('2222.SR BRK-B msft aapl goog JPM')\n",
    "\n",
    "# access each ticker using (example)\n",
    "round(tickers.tickers['2222.SR'].dividends.sum()/sr_weekly.Close[-1]*100,2)"
   ]
  },
  {
   "cell_type": "code",
   "execution_count": null,
   "metadata": {},
   "outputs": [],
   "source": []
  },
  {
   "cell_type": "code",
   "execution_count": null,
   "metadata": {},
   "outputs": [],
   "source": []
  }
 ],
 "metadata": {
  "kernelspec": {
   "display_name": "Python 3",
   "language": "python",
   "name": "python3"
  },
  "language_info": {
   "codemirror_mode": {
    "name": "ipython",
    "version": 3
   },
   "file_extension": ".py",
   "mimetype": "text/x-python",
   "name": "python",
   "nbconvert_exporter": "python",
   "pygments_lexer": "ipython3",
   "version": "3.11.5"
  }
 },
 "nbformat": 4,
 "nbformat_minor": 2
}
